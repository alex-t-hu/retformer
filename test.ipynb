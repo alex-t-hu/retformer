{
 "cells": [
  {
   "cell_type": "code",
   "execution_count": 1,
   "metadata": {},
   "outputs": [],
   "source": [
    "import retnet\n",
    "import torch\n",
    "import torch.nn as nn"
   ]
  },
  {
   "cell_type": "code",
   "execution_count": 3,
   "metadata": {},
   "outputs": [
    {
     "name": "stdout",
     "output_type": "stream",
     "text": [
      "1.3B model: 1269940224\n"
     ]
    }
   ],
   "source": [
    "device = torch.device(\"cuda\" if torch.cuda.is_available() else \"cpu\")\n",
    "\n",
    "# 1.3B model\n",
    "layers = 24\n",
    "hidden_dim = 2048\n",
    "ffn_size = 4096\n",
    "heads = 16\n",
    "vocab_size = 30000\n",
    "\n",
    "net = retnet.RetNet(layers, hidden_dim, ffn_size, heads, vocab_size, double_v_dim=True).to(device)\n",
    "print(\"1.3B model:\",sum(p.numel() for p in net.parameters() if p.requires_grad))"
   ]
  },
  {
   "cell_type": "code",
   "execution_count": 6,
   "metadata": {},
   "outputs": [
    {
     "name": "stdout",
     "output_type": "stream",
     "text": [
      "1.3B model: 665690112\n"
     ]
    }
   ],
   "source": [
    "layers = 12\n",
    "hidden_dim = 2048\n",
    "ffn_size = 4096\n",
    "heads = 8\n",
    "vocab_size = 30000\n",
    "\n",
    "net = retnet.RetNet(layers, hidden_dim, ffn_size, heads, vocab_size, double_v_dim=True).to(device)\n",
    "print(\"1.3B model:\",sum(p.numel() for p in net.parameters() if p.requires_grad))"
   ]
  },
  {
   "cell_type": "code",
   "execution_count": null,
   "metadata": {},
   "outputs": [],
   "source": []
  }
 ],
 "metadata": {
  "kernelspec": {
   "display_name": "Python 3",
   "language": "python",
   "name": "python3"
  },
  "language_info": {
   "codemirror_mode": {
    "name": "ipython",
    "version": 3
   },
   "file_extension": ".py",
   "mimetype": "text/x-python",
   "name": "python",
   "nbconvert_exporter": "python",
   "pygments_lexer": "ipython3",
   "version": "3.10.4"
  }
 },
 "nbformat": 4,
 "nbformat_minor": 2
}
